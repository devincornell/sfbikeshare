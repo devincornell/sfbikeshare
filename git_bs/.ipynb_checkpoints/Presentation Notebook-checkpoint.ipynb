{
 "cells": [
  {
   "cell_type": "markdown",
   "metadata": {},
   "source": [
    "<h1>San Francisco Bikeshare</h1>\n",
    "by Kevin and Jeff\n",
    "\n",
    "\n",
    "\n",
    "\n",
    "\n"
   ]
  },
  {
   "cell_type": "markdown",
   "metadata": {},
   "source": [
    "<h2>What are Bikeshares?</h2>\n",
    "\n",
    "![What are Bikeshares?](https://ww2.kqed.org/news/wp-content/uploads/sites/10/2013/08/bike-share-1.jpg)"
   ]
  },
  {
   "cell_type": "markdown",
   "metadata": {},
   "source": [
    "<h2>A Starting Point</h2>\n",
    "\n",
    "![A Starting Point](https://www.kaggle.io/svf/266282/f38a21e1d561640de079ba6a8e0935ea/sf_trips.png)"
   ]
  },
  {
   "cell_type": "markdown",
   "metadata": {},
   "source": [
    "<h2>Why Do We Care?</h2>\n",
    "<br/>\n",
    "\n",
    "![wapo](http://i63.tinypic.com/2hi6kpw.png)\n",
    "\n",
    "![seattle](http://i63.tinypic.com/wirihy.png)\n",
    "\n",
    "![nextcity](http://i67.tinypic.com/a2f85i.png)"
   ]
  },
  {
   "cell_type": "markdown",
   "metadata": {},
   "source": [
    "<h2>Bikeshare User Surveys</h2>\n",
    "<br/>\n",
    "\n",
    "![demos](http://i63.tinypic.com/fuwach.png)\n",
    "\n",
    "![reasons](http://i63.tinypic.com/2ljhw0w.png)\n",
    "\n",
    "![reasons2](http://i68.tinypic.com/37gom.png)"
   ]
  },
  {
   "cell_type": "markdown",
   "metadata": {},
   "source": [
    "<h2>Research Question<h2/>\n",
    "    \n",
    "<emph><font color = 'blue'>What types of users (clusters) can we identify beyond casual users and subscribers?</font></emph>"
   ]
  },
  {
   "cell_type": "markdown",
   "metadata": {},
   "source": [
    "<h1>Contextual Data</h1>\n",
    "\n",
    "![wheel](http://i65.tinypic.com/qn9uko.jpg)"
   ]
  },
  {
   "cell_type": "markdown",
   "metadata": {},
   "source": [
    "<h2>Ride Characteristics</h2>\n",
    "\n",
    "Basic properties of each ride are available from a Kaggle competition. Relevant features include the <b>day of the week</b>, the <b>hour</b>, and the <b>duration</b> of each trip. The dataset also indicates whether each rider is a <b>subscriber</b>."
   ]
  },
  {
   "cell_type": "code",
   "execution_count": 4,
   "metadata": {},
   "outputs": [
    {
     "ename": "ModuleNotFoundError",
     "evalue": "No module named 'DataLoading'",
     "output_type": "error",
     "traceback": [
      "\u001b[1;31m---------------------------------------------------------------------------\u001b[0m",
      "\u001b[1;31mModuleNotFoundError\u001b[0m                       Traceback (most recent call last)",
      "\u001b[1;32m<ipython-input-4-58266eaeaef7>\u001b[0m in \u001b[0;36m<module>\u001b[1;34m()\u001b[0m\n\u001b[0;32m      1\u001b[0m \u001b[1;32mimport\u001b[0m \u001b[0msys\u001b[0m\u001b[1;33m\u001b[0m\u001b[0m\n\u001b[0;32m      2\u001b[0m \u001b[0msys\u001b[0m\u001b[1;33m.\u001b[0m\u001b[0mpath\u001b[0m\u001b[1;33m.\u001b[0m\u001b[0mappend\u001b[0m\u001b[1;33m(\u001b[0m\u001b[1;34m'./src'\u001b[0m\u001b[1;33m)\u001b[0m\u001b[1;33m\u001b[0m\u001b[0m\n\u001b[1;32m----> 3\u001b[1;33m \u001b[1;32mimport\u001b[0m \u001b[0mDataLoading\u001b[0m\u001b[1;33m\u001b[0m\u001b[0m\n\u001b[0m\u001b[0;32m      4\u001b[0m \u001b[1;33m\u001b[0m\u001b[0m\n\u001b[0;32m      5\u001b[0m \u001b[1;31m# Load rides data\u001b[0m\u001b[1;33m\u001b[0m\u001b[1;33m\u001b[0m\u001b[0m\n",
      "\u001b[1;31mModuleNotFoundError\u001b[0m: No module named 'DataLoading'"
     ]
    }
   ],
   "source": [
    "import sys \n",
    "sys.path.append('./src')\n",
    "import DataLoading\n",
    "\n",
    "features, trip_sources, trip_dests = DataLoading.load_ride_data()"
   ]
  },
  {
   "cell_type": "markdown",
   "metadata": {},
   "source": [
    "<h2>Clustering<h2/>"
   ]
  },
  {
   "cell_type": "markdown",
   "metadata": {},
   "source": [
    "    Supervised vs. Unsupervised Learning\n",
    "    Which did we use?\n",
    "        Unsupervised Learning\n"
   ]
  },
  {
   "cell_type": "markdown",
   "metadata": {},
   "source": [
    "<h2>Gaussian Mixture Model<h2/>"
   ]
  },
  {
   "cell_type": "markdown",
   "metadata": {},
   "source": [
    "<h2>Summary of Results<h2>"
   ]
  },
  {
   "cell_type": "markdown",
   "metadata": {},
   "source": [
    "<h2>Discussion<h2/>"
   ]
  },
  {
   "cell_type": "markdown",
   "metadata": {},
   "source": [
    "<h2>Next Steps<h2/>"
   ]
  }
 ],
 "metadata": {
  "anaconda-cloud": {},
  "kernelspec": {
   "display_name": "Python 3",
   "language": "python",
   "name": "python3"
  },
  "language_info": {
   "codemirror_mode": {
    "name": "ipython",
    "version": 3
   },
   "file_extension": ".py",
   "mimetype": "text/x-python",
   "name": "python",
   "nbconvert_exporter": "python",
   "pygments_lexer": "ipython3",
   "version": "3.6.1"
  }
 },
 "nbformat": 4,
 "nbformat_minor": 2
}
